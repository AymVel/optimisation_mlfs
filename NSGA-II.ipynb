{
 "cells": [
  {
   "cell_type": "markdown",
   "metadata": {},
   "source": [
    "# Import Libraries"
   ]
  },
  {
   "cell_type": "code",
   "metadata": {
    "jupyter": {
     "is_executing": true
    }
   },
   "source": [
    "import math\n",
    "import random\n",
    "import matplotlib.pyplot as plt\n",
    "from skmultilearn.adapt import MLkNN\n",
    "from dataset.get_hydraulic import load_Hydraulic\n",
    "import warnings\n",
    "from sklearn.svm import SVC\n",
    "import numpy as np\n",
    "warnings.filterwarnings('ignore')\n",
    "from sklearn.metrics import hamming_loss, accuracy_score\n",
    "%matplotlib inline"
   ],
   "outputs": [],
   "execution_count": null
  },
  {
   "cell_type": "markdown",
   "metadata": {},
   "source": [
    "# Import dataset"
   ]
  },
  {
   "cell_type": "code",
   "execution_count": 52,
   "metadata": {},
   "outputs": [
    {
     "name": "stdout",
     "output_type": "stream",
     "text": [
      "Dataset = hydraulic\n",
      "(1543, 17)\n",
      "(1543, 4)\n"
     ]
    }
   ],
   "source": [
    "def select_dataset(ds_name,cmd=False):\n",
    "\n",
    "    '''if(ds_name == \"azure\"):\n",
    "        X_train, X_test, y_train, y_test, class_name = merge_dataset(already_loaded=True,cmd=cmd)#get_azure(period=24)\n",
    "        #print(f\"AZURE: X_train: {X_train.shape} | X_test: {X_test.shape} | Y_test: {y_test.shape}\")\n",
    "\n",
    "    if(ds_name == \"AI4I*\"):\n",
    "        X_train, X_test, y_train, y_test, class_name = get_ai4i(with_machine_failure=False,cmd=cmd)  # Get dataset already splitted\n",
    "\n",
    "    if (ds_name == \"AI4I**\"):\n",
    "        X_train, X_test, y_train, y_test, class_name = get_ai4i( with_machine_failure=True,cmd=cmd)  # Get dataset already splitted\n",
    "    '''\n",
    "    if(ds_name == \"hydraulic\"):\n",
    "        X_train, X_test, y_train, y_test, class_name = load_Hydraulic(encoding=\"binary\",cmd=cmd)  # Get dataset already splitted\n",
    "\n",
    "    return X_train, X_test, y_train, y_test, class_name\n",
    "\n",
    "\n",
    "\n",
    "ds_name = [\"hydraulic\"]#[\"hydraulic\",\"AI4I*\",\"AI4I**\"]#\"azure\"]\n",
    "cmd = True # when called from root project folder\n",
    "for ds in ds_name:\n",
    "    print(f\"Dataset = {ds}\")\n",
    "    X_train, X_test, y_train, y_test, class_name = select_dataset(ds_name=ds,cmd=True)\n",
    "print(X_train.shape)\n",
    "print(y_train.shape)"
   ]
  },
  {
   "cell_type": "markdown",
   "metadata": {},
   "source": [
    "# Objective Functions To Be Optimized"
   ]
  },
  {
   "cell_type": "code",
   "execution_count": 50,
   "metadata": {},
   "outputs": [],
   "source": [
    "def SVM_train(X_train, y_train):\n",
    "    '''clf = SVC(gamma='auto')\n",
    "    y_train_reshaped = y_train.squeeze()\n",
    "    print(X_train.shape)\n",
    "    print(y_train_reshaped.shape)\n",
    "    clf.fit(X_train, y_train_reshaped)'''\n",
    "    clf = MLkNN(k=16)\n",
    "    clf = clf.fit(X_train,y_train)\n",
    "    return clf"
   ]
  },
  {
   "cell_type": "code",
   "execution_count": 34,
   "metadata": {
    "ExecuteTime": {
     "end_time": "2024-04-17T09:18:44.323048Z",
     "start_time": "2024-04-17T09:18:44.320928Z"
    }
   },
   "outputs": [],
   "source": [
    "def objective1(X_train,y_train,X_test,y_test):\n",
    "    clf = SVM_train(X_train, y_train)\n",
    "    prediction = clf.predict(X_test)\n",
    "    h1 = hamming_loss(y_test,prediction)\n",
    "    return h1"
   ]
  },
  {
   "cell_type": "code",
   "execution_count": 35,
   "metadata": {
    "ExecuteTime": {
     "end_time": "2024-04-17T09:18:45.846820Z",
     "start_time": "2024-04-17T09:18:45.844379Z"
    }
   },
   "outputs": [],
   "source": [
    "def objective2(X_train,y_train,X_test,y_test):\n",
    "    clf = SVM_train(X_train, y_train)\n",
    "    prediction = clf.predict(X_test)\n",
    "    accuracy = accuracy_score(y_true=y_test,y_pred=prediction)\n",
    "    return accuracy"
   ]
  },
  {
   "cell_type": "markdown",
   "metadata": {},
   "source": [
    "# Parameter Initialization"
   ]
  },
  {
   "cell_type": "code",
   "execution_count": 36,
   "metadata": {
    "ExecuteTime": {
     "end_time": "2024-04-17T09:18:47.543529Z",
     "start_time": "2024-04-17T09:18:47.540919Z"
    }
   },
   "outputs": [],
   "source": [
    "population = 25\n",
    "max_gen = 501\n",
    "min_value= -100\n",
    "max_value= 100\n",
    "mutation_rate = 0.3"
   ]
  },
  {
   "cell_type": "markdown",
   "metadata": {},
   "source": [
    "# Helper Methods"
   ]
  },
  {
   "cell_type": "code",
   "execution_count": 37,
   "metadata": {
    "ExecuteTime": {
     "end_time": "2024-04-17T09:18:49.159999Z",
     "start_time": "2024-04-17T09:18:49.157172Z"
    }
   },
   "outputs": [],
   "source": [
    "def index_locator(a,list):\n",
    "    for i in range(0,len(list)):\n",
    "        if list[i] == a:\n",
    "            return i\n",
    "    return -1"
   ]
  },
  {
   "cell_type": "code",
   "execution_count": 38,
   "metadata": {
    "ExecuteTime": {
     "end_time": "2024-04-17T09:18:50.630143Z",
     "start_time": "2024-04-17T09:18:50.626582Z"
    }
   },
   "outputs": [],
   "source": [
    "def sort_by_values(list1, values):\n",
    "    sorted_list = []\n",
    "    while(len(sorted_list)!=len(list1)):\n",
    "        if index_locator(min(values),values) in list1:\n",
    "            sorted_list.append(index_locator(min(values),values))\n",
    "        values[index_locator(min(values),values)] = math.inf\n",
    "    return sorted_list"
   ]
  },
  {
   "cell_type": "code",
   "execution_count": 39,
   "metadata": {
    "ExecuteTime": {
     "end_time": "2024-04-17T09:18:51.285691Z",
     "start_time": "2024-04-17T09:18:51.281714Z"
    }
   },
   "outputs": [],
   "source": [
    "def crowding_distance(values1, values2, front):\n",
    "    distance = [0 for i in range(0,len(front))]\n",
    "    sorted1 = sort_by_values(front, values1[:])\n",
    "    sorted2 = sort_by_values(front, values2[:])\n",
    "    distance[0] = 9999999999999999\n",
    "    distance[len(front) - 1] = 9999999999999999\n",
    "    for k in range(1,len(front)-1):\n",
    "        distance[k] = distance[k]+ (values1[sorted1[k+1]] - values2[sorted1[k-1]])/(max(values1)-min(values1))\n",
    "    for k in range(1,len(front)-1):\n",
    "        distance[k] = distance[k]+ (values1[sorted2[k+1]] - values2[sorted2[k-1]])/(max(values2)-min(values2))\n",
    "    return distance"
   ]
  },
  {
   "cell_type": "markdown",
   "metadata": {},
   "source": [
    "# Genetic Operator Functions"
   ]
  },
  {
   "cell_type": "code",
   "execution_count": 40,
   "metadata": {
    "ExecuteTime": {
     "end_time": "2024-04-17T09:18:52.518683Z",
     "start_time": "2024-04-17T09:18:52.516103Z"
    }
   },
   "outputs": [],
   "source": [
    "def crossover(parent1,parent2):\n",
    "    crossover_point = random.randint(0, len(parent1) - 1)\n",
    "    child1 = parent1[:crossover_point] + parent2[crossover_point:]\n",
    "    child2 = parent2[:crossover_point] + parent1[crossover_point:]\n",
    "    return child1, child2"
   ]
  },
  {
   "cell_type": "code",
   "execution_count": 41,
   "metadata": {
    "ExecuteTime": {
     "end_time": "2024-04-17T09:18:53.232679Z",
     "start_time": "2024-04-17T09:18:53.229746Z"
    }
   },
   "outputs": [],
   "source": [
    "def mutation(individual):\n",
    "    mutated_individual = individual[:]\n",
    "    for i in range(len(mutated_individual)):\n",
    "        if random.random() < mutation_rate:\n",
    "            mutated_individual[i] = 1 - mutated_individual[i]  # Flip the bit\n",
    "    return mutated_individual"
   ]
  },
  {
   "cell_type": "markdown",
   "metadata": {},
   "source": [
    "# Algorithm"
   ]
  },
  {
   "cell_type": "code",
   "execution_count": 42,
   "metadata": {
    "ExecuteTime": {
     "end_time": "2024-04-17T09:18:55.322726Z",
     "start_time": "2024-04-17T09:18:55.318247Z"
    }
   },
   "outputs": [],
   "source": [
    "def non_dominated_sorting_algorithm(values1, values2):\n",
    "    S=[[] for i in range(0,len(values1))]\n",
    "    front = [[]]\n",
    "    n=[0 for i in range(0,len(values1))]\n",
    "    rank = [0 for i in range(0, len(values1))]\n",
    "\n",
    "    for p in range(0,len(values1)):\n",
    "        S[p]=[]\n",
    "        n[p]=0\n",
    "        for q in range(0, len(values1)):\n",
    "            if (values1[p] > values1[q] and values2[p] > values2[q]) or (values1[p] >= values1[q] and values2[p] > values2[q]) or (values1[p] > values1[q] and values2[p] >= values2[q]):\n",
    "                if q not in S[p]:\n",
    "                    S[p].append(q)\n",
    "            elif (values1[q] > values1[p] and values2[q] > values2[p]) or (values1[q] >= values1[p] and values2[q] > values2[p]) or (values1[q] > values1[p] and values2[q] >= values2[p]):\n",
    "                n[p] = n[p] + 1\n",
    "        if n[p]==0:\n",
    "            rank[p] = 0\n",
    "            if p not in front[0]:\n",
    "                front[0].append(p)\n",
    "    i = 0\n",
    "    while(front[i] != []):\n",
    "        Q=[]\n",
    "        for p in front[i]:\n",
    "            for q in S[p]:\n",
    "                n[q] =n[q] - 1\n",
    "                if( n[q]==0):\n",
    "                    rank[q]=i+1\n",
    "                    if q not in Q:\n",
    "                        Q.append(q)\n",
    "        i = i+1\n",
    "        front.append(Q)\n",
    "    del front[len(front)-1]\n",
    "    return front"
   ]
  },
  {
   "cell_type": "markdown",
   "metadata": {},
   "source": [
    "# Final Implementation Function"
   ]
  },
  {
   "cell_type": "code",
   "execution_count": 43,
   "metadata": {
    "ExecuteTime": {
     "end_time": "2024-04-17T09:18:57.073798Z",
     "start_time": "2024-04-17T09:18:57.068753Z"
    }
   },
   "outputs": [],
   "source": [
    "def nsga2(population,max_gen,data_x, data_y, X_test, y_test):\n",
    "    \n",
    "    gen_no=0\n",
    "    solution=[[random.randint(0, 1) for _ in range(data_x.shape[1])] for _ in range(population)]\n",
    "    \n",
    "    while(gen_no<max_gen):\n",
    "        objective1_values = [\n",
    "            objective1(\n",
    "                data_x[:, np.array(solution[c]).nonzero()[0]],\n",
    "                data_y,\n",
    "                X_test[:, np.array(solution[c]).nonzero()[0]],\n",
    "                y_test\n",
    "            ) for c, column in enumerate(range(len(solution)))\n",
    "        ]\n",
    "        objective2_values = [\n",
    "            objective2(\n",
    "                data_x[:, np.array(solution[c]).nonzero()[0]],\n",
    "                data_y,\n",
    "                X_test[:, np.array(solution[c]).nonzero()[0]],\n",
    "                y_test\n",
    "            ) for c, column in enumerate(range(len(solution)))\n",
    "        ]\n",
    "        non_dominated_sorted_solution = non_dominated_sorting_algorithm(objective1_values[:],objective2_values[:])\n",
    "        print('Best Front for Generation:',gen_no)\n",
    "        for values in non_dominated_sorted_solution[0]:\n",
    "            print(np.array(solution[values]).round(3), end=\" \")\n",
    "            #print(round(solution[values],3),end=\" \")\n",
    "        print(\"\\n\")\n",
    "        crowding_distance_values=[]\n",
    "        for i in range(0,len(non_dominated_sorted_solution)):\n",
    "            crowding_distance_values.append(crowding_distance(objective1_values[:],objective2_values[:],non_dominated_sorted_solution[i][:]))\n",
    "        solution2 = solution[:]\n",
    "        \n",
    "        while(len(solution2)!=2*population):\n",
    "            a1 = random.randint(0,population-1)\n",
    "            b1 = random.randint(0,population-1)\n",
    "            solution2.append(crossover(solution[a1],solution[b1]))\n",
    "        objective1_values2 = [\n",
    "            objective1(\n",
    "                data_x[:, np.array(solution[c]).nonzero()[0]],\n",
    "                data_y,\n",
    "                X_test[:, np.array(solution[c]).nonzero()[0]],\n",
    "                y_test\n",
    "            ) for c, column in enumerate(range(2*len(solution)))\n",
    "        ]\n",
    "        objective2_values2 = [\n",
    "            objective2(\n",
    "                data_x[:, np.array(solution[c]).nonzero()[0]],\n",
    "                data_y,\n",
    "                X_test[:, np.array(solution[c]).nonzero()[0]],\n",
    "                y_test\n",
    "            ) for c, column in enumerate(range(2*len(solution)))\n",
    "        ]\n",
    "        non_dominated_sorted_solution2 = non_dominated_sorting_algorithm(objective1_values2[:],objective2_values2[:])\n",
    "        crowding_distance_values2=[]\n",
    "        for i in range(0,len(non_dominated_sorted_solution2)):\n",
    "            crowding_distance_values2.append(crowding_distance(objective1_values2[:],objective2_values2[:],non_dominated_sorted_solution2[i][:]))\n",
    "        new_solution= []\n",
    "        for i in range(0,len(non_dominated_sorted_solution2)):\n",
    "            non_dominated_sorted_solution2_1 = [index_locator(non_dominated_sorted_solution2[i][j],non_dominated_sorted_solution2[i] ) for j in range(0,len(non_dominated_sorted_solution2[i]))]\n",
    "            front22 = sort_by_values(non_dominated_sorted_solution2_1[:], crowding_distance_values2[i][:])\n",
    "            front = [non_dominated_sorted_solution2[i][front22[j]] for j in range(0,len(non_dominated_sorted_solution2[i]))]\n",
    "            front.reverse()\n",
    "            for value in front:\n",
    "                new_solution.append(value)\n",
    "                if(len(new_solution)==population):\n",
    "                    break\n",
    "            if (len(new_solution) == population):\n",
    "                break\n",
    "        solution = [solution2[i] for i in new_solution]\n",
    "        gen_no = gen_no + 1\n",
    "    return [objective1_values, objective2_values]"
   ]
  },
  {
   "cell_type": "markdown",
   "metadata": {},
   "source": [
    "# Curve Plotter"
   ]
  },
  {
   "cell_type": "code",
   "execution_count": 44,
   "metadata": {
    "ExecuteTime": {
     "end_time": "2024-04-17T09:18:58.915817Z",
     "start_time": "2024-04-17T09:18:58.912994Z"
    }
   },
   "outputs": [],
   "source": [
    "def non_dominating_curve_plotter(objective1_values, objective2_values):\n",
    "    plt.figure(figsize=(15,8))\n",
    "    objective1 = [i * -1 for i in objective1_values]\n",
    "    objective2 = [j * -1 for j in objective2_values]\n",
    "    plt.xlabel('Objective Function 1', fontsize=15)\n",
    "    plt.ylabel('Objective Function 2', fontsize=15)\n",
    "    plt.scatter(objective1, objective2, c='red', s=25)"
   ]
  },
  {
   "cell_type": "markdown",
   "metadata": {},
   "source": [
    "# Operation"
   ]
  },
  {
   "cell_type": "code",
   "execution_count": 51,
   "metadata": {
    "ExecuteTime": {
     "end_time": "2024-04-17T09:19:01.300049Z",
     "start_time": "2024-04-17T09:19:00.201065Z"
    }
   },
   "outputs": [
    {
     "name": "stdout",
     "output_type": "stream",
     "text": [
      "(1543, 10)\n",
      "(1543, 4)\n"
     ]
    },
    {
     "ename": "ValueError",
     "evalue": "y should be a 1d array, got an array of shape (1543, 4) instead.",
     "output_type": "error",
     "traceback": [
      "\u001B[0;31m---------------------------------------------------------------------------\u001B[0m",
      "\u001B[0;31mValueError\u001B[0m                                Traceback (most recent call last)",
      "Cell \u001B[0;32mIn [51], line 1\u001B[0m\n\u001B[0;32m----> 1\u001B[0m objective1_values, objective2_values \u001B[38;5;241m=\u001B[39m \u001B[43mnsga2\u001B[49m\u001B[43m(\u001B[49m\u001B[43mpopulation\u001B[49m\u001B[43m,\u001B[49m\u001B[43mmax_gen\u001B[49m\u001B[43m,\u001B[49m\u001B[43mX_train\u001B[49m\u001B[43m,\u001B[49m\u001B[43m \u001B[49m\u001B[43my_train\u001B[49m\u001B[43m,\u001B[49m\u001B[43m \u001B[49m\u001B[43mX_test\u001B[49m\u001B[43m,\u001B[49m\u001B[43m \u001B[49m\u001B[43my_test\u001B[49m\u001B[43m)\u001B[49m\n",
      "Cell \u001B[0;32mIn [43], line 7\u001B[0m, in \u001B[0;36mnsga2\u001B[0;34m(population, max_gen, data_x, data_y, X_test, y_test)\u001B[0m\n\u001B[1;32m      4\u001B[0m solution\u001B[38;5;241m=\u001B[39m[[random\u001B[38;5;241m.\u001B[39mrandint(\u001B[38;5;241m0\u001B[39m, \u001B[38;5;241m1\u001B[39m) \u001B[38;5;28;01mfor\u001B[39;00m _ \u001B[38;5;129;01min\u001B[39;00m \u001B[38;5;28mrange\u001B[39m(data_x\u001B[38;5;241m.\u001B[39mshape[\u001B[38;5;241m1\u001B[39m])] \u001B[38;5;28;01mfor\u001B[39;00m _ \u001B[38;5;129;01min\u001B[39;00m \u001B[38;5;28mrange\u001B[39m(population)]\n\u001B[1;32m      6\u001B[0m \u001B[38;5;28;01mwhile\u001B[39;00m(gen_no\u001B[38;5;241m<\u001B[39mmax_gen):\n\u001B[0;32m----> 7\u001B[0m     objective1_values \u001B[38;5;241m=\u001B[39m [\n\u001B[1;32m      8\u001B[0m         objective1(\n\u001B[1;32m      9\u001B[0m             data_x[:, np\u001B[38;5;241m.\u001B[39marray(solution[c])\u001B[38;5;241m.\u001B[39mnonzero()[\u001B[38;5;241m0\u001B[39m]],\n\u001B[1;32m     10\u001B[0m             data_y,\n\u001B[1;32m     11\u001B[0m             X_test[:, np\u001B[38;5;241m.\u001B[39marray(solution[c])\u001B[38;5;241m.\u001B[39mnonzero()[\u001B[38;5;241m0\u001B[39m]],\n\u001B[1;32m     12\u001B[0m             y_test\n\u001B[1;32m     13\u001B[0m         ) \u001B[38;5;28;01mfor\u001B[39;00m c, column \u001B[38;5;129;01min\u001B[39;00m \u001B[38;5;28menumerate\u001B[39m(\u001B[38;5;28mrange\u001B[39m(\u001B[38;5;28mlen\u001B[39m(solution)))\n\u001B[1;32m     14\u001B[0m     ]\n\u001B[1;32m     15\u001B[0m     objective2_values \u001B[38;5;241m=\u001B[39m [\n\u001B[1;32m     16\u001B[0m         objective2(\n\u001B[1;32m     17\u001B[0m             data_x[:, np\u001B[38;5;241m.\u001B[39marray(solution[c])\u001B[38;5;241m.\u001B[39mnonzero()[\u001B[38;5;241m0\u001B[39m]],\n\u001B[0;32m   (...)\u001B[0m\n\u001B[1;32m     21\u001B[0m         ) \u001B[38;5;28;01mfor\u001B[39;00m c, column \u001B[38;5;129;01min\u001B[39;00m \u001B[38;5;28menumerate\u001B[39m(\u001B[38;5;28mrange\u001B[39m(\u001B[38;5;28mlen\u001B[39m(solution)))\n\u001B[1;32m     22\u001B[0m     ]\n\u001B[1;32m     23\u001B[0m     non_dominated_sorted_solution \u001B[38;5;241m=\u001B[39m non_dominated_sorting_algorithm(objective1_values[:],objective2_values[:])\n",
      "Cell \u001B[0;32mIn [43], line 8\u001B[0m, in \u001B[0;36m<listcomp>\u001B[0;34m(.0)\u001B[0m\n\u001B[1;32m      4\u001B[0m solution\u001B[38;5;241m=\u001B[39m[[random\u001B[38;5;241m.\u001B[39mrandint(\u001B[38;5;241m0\u001B[39m, \u001B[38;5;241m1\u001B[39m) \u001B[38;5;28;01mfor\u001B[39;00m _ \u001B[38;5;129;01min\u001B[39;00m \u001B[38;5;28mrange\u001B[39m(data_x\u001B[38;5;241m.\u001B[39mshape[\u001B[38;5;241m1\u001B[39m])] \u001B[38;5;28;01mfor\u001B[39;00m _ \u001B[38;5;129;01min\u001B[39;00m \u001B[38;5;28mrange\u001B[39m(population)]\n\u001B[1;32m      6\u001B[0m \u001B[38;5;28;01mwhile\u001B[39;00m(gen_no\u001B[38;5;241m<\u001B[39mmax_gen):\n\u001B[1;32m      7\u001B[0m     objective1_values \u001B[38;5;241m=\u001B[39m [\n\u001B[0;32m----> 8\u001B[0m         \u001B[43mobjective1\u001B[49m\u001B[43m(\u001B[49m\n\u001B[1;32m      9\u001B[0m \u001B[43m            \u001B[49m\u001B[43mdata_x\u001B[49m\u001B[43m[\u001B[49m\u001B[43m:\u001B[49m\u001B[43m,\u001B[49m\u001B[43m \u001B[49m\u001B[43mnp\u001B[49m\u001B[38;5;241;43m.\u001B[39;49m\u001B[43marray\u001B[49m\u001B[43m(\u001B[49m\u001B[43msolution\u001B[49m\u001B[43m[\u001B[49m\u001B[43mc\u001B[49m\u001B[43m]\u001B[49m\u001B[43m)\u001B[49m\u001B[38;5;241;43m.\u001B[39;49m\u001B[43mnonzero\u001B[49m\u001B[43m(\u001B[49m\u001B[43m)\u001B[49m\u001B[43m[\u001B[49m\u001B[38;5;241;43m0\u001B[39;49m\u001B[43m]\u001B[49m\u001B[43m]\u001B[49m\u001B[43m,\u001B[49m\n\u001B[1;32m     10\u001B[0m \u001B[43m            \u001B[49m\u001B[43mdata_y\u001B[49m\u001B[43m,\u001B[49m\n\u001B[1;32m     11\u001B[0m \u001B[43m            \u001B[49m\u001B[43mX_test\u001B[49m\u001B[43m[\u001B[49m\u001B[43m:\u001B[49m\u001B[43m,\u001B[49m\u001B[43m \u001B[49m\u001B[43mnp\u001B[49m\u001B[38;5;241;43m.\u001B[39;49m\u001B[43marray\u001B[49m\u001B[43m(\u001B[49m\u001B[43msolution\u001B[49m\u001B[43m[\u001B[49m\u001B[43mc\u001B[49m\u001B[43m]\u001B[49m\u001B[43m)\u001B[49m\u001B[38;5;241;43m.\u001B[39;49m\u001B[43mnonzero\u001B[49m\u001B[43m(\u001B[49m\u001B[43m)\u001B[49m\u001B[43m[\u001B[49m\u001B[38;5;241;43m0\u001B[39;49m\u001B[43m]\u001B[49m\u001B[43m]\u001B[49m\u001B[43m,\u001B[49m\n\u001B[1;32m     12\u001B[0m \u001B[43m            \u001B[49m\u001B[43my_test\u001B[49m\n\u001B[1;32m     13\u001B[0m \u001B[43m        \u001B[49m\u001B[43m)\u001B[49m \u001B[38;5;28;01mfor\u001B[39;00m c, column \u001B[38;5;129;01min\u001B[39;00m \u001B[38;5;28menumerate\u001B[39m(\u001B[38;5;28mrange\u001B[39m(\u001B[38;5;28mlen\u001B[39m(solution)))\n\u001B[1;32m     14\u001B[0m     ]\n\u001B[1;32m     15\u001B[0m     objective2_values \u001B[38;5;241m=\u001B[39m [\n\u001B[1;32m     16\u001B[0m         objective2(\n\u001B[1;32m     17\u001B[0m             data_x[:, np\u001B[38;5;241m.\u001B[39marray(solution[c])\u001B[38;5;241m.\u001B[39mnonzero()[\u001B[38;5;241m0\u001B[39m]],\n\u001B[0;32m   (...)\u001B[0m\n\u001B[1;32m     21\u001B[0m         ) \u001B[38;5;28;01mfor\u001B[39;00m c, column \u001B[38;5;129;01min\u001B[39;00m \u001B[38;5;28menumerate\u001B[39m(\u001B[38;5;28mrange\u001B[39m(\u001B[38;5;28mlen\u001B[39m(solution)))\n\u001B[1;32m     22\u001B[0m     ]\n\u001B[1;32m     23\u001B[0m     non_dominated_sorted_solution \u001B[38;5;241m=\u001B[39m non_dominated_sorting_algorithm(objective1_values[:],objective2_values[:])\n",
      "Cell \u001B[0;32mIn [34], line 2\u001B[0m, in \u001B[0;36mobjective1\u001B[0;34m(X_train, y_train, X_test, y_test)\u001B[0m\n\u001B[1;32m      1\u001B[0m \u001B[38;5;28;01mdef\u001B[39;00m \u001B[38;5;21mobjective1\u001B[39m(X_train,y_train,X_test,y_test):\n\u001B[0;32m----> 2\u001B[0m     clf \u001B[38;5;241m=\u001B[39m \u001B[43mSVM_train\u001B[49m\u001B[43m(\u001B[49m\u001B[43mX_train\u001B[49m\u001B[43m,\u001B[49m\u001B[43m \u001B[49m\u001B[43my_train\u001B[49m\u001B[43m)\u001B[49m\n\u001B[1;32m      3\u001B[0m     prediction \u001B[38;5;241m=\u001B[39m clf\u001B[38;5;241m.\u001B[39mpredict(X_test)\n\u001B[1;32m      4\u001B[0m     h1 \u001B[38;5;241m=\u001B[39m hamming_loss(y_test,prediction)\n",
      "Cell \u001B[0;32mIn [50], line 6\u001B[0m, in \u001B[0;36mSVM_train\u001B[0;34m(X_train, y_train)\u001B[0m\n\u001B[1;32m      4\u001B[0m \u001B[38;5;28mprint\u001B[39m(X_train\u001B[38;5;241m.\u001B[39mshape)\n\u001B[1;32m      5\u001B[0m \u001B[38;5;28mprint\u001B[39m(y_train_reshaped\u001B[38;5;241m.\u001B[39mshape)\n\u001B[0;32m----> 6\u001B[0m \u001B[43mclf\u001B[49m\u001B[38;5;241;43m.\u001B[39;49m\u001B[43mfit\u001B[49m\u001B[43m(\u001B[49m\u001B[43mX_train\u001B[49m\u001B[43m,\u001B[49m\u001B[43m \u001B[49m\u001B[43my_train_reshaped\u001B[49m\u001B[43m)\u001B[49m\n\u001B[1;32m      7\u001B[0m \u001B[38;5;28;01mreturn\u001B[39;00m clf\n",
      "File \u001B[0;32m/usr/local/lib/python3.10/site-packages/sklearn/svm/_base.py:192\u001B[0m, in \u001B[0;36mBaseLibSVM.fit\u001B[0;34m(self, X, y, sample_weight)\u001B[0m\n\u001B[1;32m    190\u001B[0m     check_consistent_length(X, y)\n\u001B[1;32m    191\u001B[0m \u001B[38;5;28;01melse\u001B[39;00m:\n\u001B[0;32m--> 192\u001B[0m     X, y \u001B[38;5;241m=\u001B[39m \u001B[38;5;28;43mself\u001B[39;49m\u001B[38;5;241;43m.\u001B[39;49m\u001B[43m_validate_data\u001B[49m\u001B[43m(\u001B[49m\n\u001B[1;32m    193\u001B[0m \u001B[43m        \u001B[49m\u001B[43mX\u001B[49m\u001B[43m,\u001B[49m\n\u001B[1;32m    194\u001B[0m \u001B[43m        \u001B[49m\u001B[43my\u001B[49m\u001B[43m,\u001B[49m\n\u001B[1;32m    195\u001B[0m \u001B[43m        \u001B[49m\u001B[43mdtype\u001B[49m\u001B[38;5;241;43m=\u001B[39;49m\u001B[43mnp\u001B[49m\u001B[38;5;241;43m.\u001B[39;49m\u001B[43mfloat64\u001B[49m\u001B[43m,\u001B[49m\n\u001B[1;32m    196\u001B[0m \u001B[43m        \u001B[49m\u001B[43morder\u001B[49m\u001B[38;5;241;43m=\u001B[39;49m\u001B[38;5;124;43m\"\u001B[39;49m\u001B[38;5;124;43mC\u001B[39;49m\u001B[38;5;124;43m\"\u001B[39;49m\u001B[43m,\u001B[49m\n\u001B[1;32m    197\u001B[0m \u001B[43m        \u001B[49m\u001B[43maccept_sparse\u001B[49m\u001B[38;5;241;43m=\u001B[39;49m\u001B[38;5;124;43m\"\u001B[39;49m\u001B[38;5;124;43mcsr\u001B[39;49m\u001B[38;5;124;43m\"\u001B[39;49m\u001B[43m,\u001B[49m\n\u001B[1;32m    198\u001B[0m \u001B[43m        \u001B[49m\u001B[43maccept_large_sparse\u001B[49m\u001B[38;5;241;43m=\u001B[39;49m\u001B[38;5;28;43;01mFalse\u001B[39;49;00m\u001B[43m,\u001B[49m\n\u001B[1;32m    199\u001B[0m \u001B[43m    \u001B[49m\u001B[43m)\u001B[49m\n\u001B[1;32m    201\u001B[0m y \u001B[38;5;241m=\u001B[39m \u001B[38;5;28mself\u001B[39m\u001B[38;5;241m.\u001B[39m_validate_targets(y)\n\u001B[1;32m    203\u001B[0m sample_weight \u001B[38;5;241m=\u001B[39m np\u001B[38;5;241m.\u001B[39masarray(\n\u001B[1;32m    204\u001B[0m     [] \u001B[38;5;28;01mif\u001B[39;00m sample_weight \u001B[38;5;129;01mis\u001B[39;00m \u001B[38;5;28;01mNone\u001B[39;00m \u001B[38;5;28;01melse\u001B[39;00m sample_weight, dtype\u001B[38;5;241m=\u001B[39mnp\u001B[38;5;241m.\u001B[39mfloat64\n\u001B[1;32m    205\u001B[0m )\n",
      "File \u001B[0;32m/usr/local/lib/python3.10/site-packages/sklearn/base.py:565\u001B[0m, in \u001B[0;36mBaseEstimator._validate_data\u001B[0;34m(self, X, y, reset, validate_separately, **check_params)\u001B[0m\n\u001B[1;32m    563\u001B[0m         y \u001B[38;5;241m=\u001B[39m check_array(y, input_name\u001B[38;5;241m=\u001B[39m\u001B[38;5;124m\"\u001B[39m\u001B[38;5;124my\u001B[39m\u001B[38;5;124m\"\u001B[39m, \u001B[38;5;241m*\u001B[39m\u001B[38;5;241m*\u001B[39mcheck_y_params)\n\u001B[1;32m    564\u001B[0m     \u001B[38;5;28;01melse\u001B[39;00m:\n\u001B[0;32m--> 565\u001B[0m         X, y \u001B[38;5;241m=\u001B[39m \u001B[43mcheck_X_y\u001B[49m\u001B[43m(\u001B[49m\u001B[43mX\u001B[49m\u001B[43m,\u001B[49m\u001B[43m \u001B[49m\u001B[43my\u001B[49m\u001B[43m,\u001B[49m\u001B[43m \u001B[49m\u001B[38;5;241;43m*\u001B[39;49m\u001B[38;5;241;43m*\u001B[39;49m\u001B[43mcheck_params\u001B[49m\u001B[43m)\u001B[49m\n\u001B[1;32m    566\u001B[0m     out \u001B[38;5;241m=\u001B[39m X, y\n\u001B[1;32m    568\u001B[0m \u001B[38;5;28;01mif\u001B[39;00m \u001B[38;5;129;01mnot\u001B[39;00m no_val_X \u001B[38;5;129;01mand\u001B[39;00m check_params\u001B[38;5;241m.\u001B[39mget(\u001B[38;5;124m\"\u001B[39m\u001B[38;5;124mensure_2d\u001B[39m\u001B[38;5;124m\"\u001B[39m, \u001B[38;5;28;01mTrue\u001B[39;00m):\n",
      "File \u001B[0;32m/usr/local/lib/python3.10/site-packages/sklearn/utils/validation.py:1122\u001B[0m, in \u001B[0;36mcheck_X_y\u001B[0;34m(X, y, accept_sparse, accept_large_sparse, dtype, order, copy, force_all_finite, ensure_2d, allow_nd, multi_output, ensure_min_samples, ensure_min_features, y_numeric, estimator)\u001B[0m\n\u001B[1;32m   1102\u001B[0m     \u001B[38;5;28;01mraise\u001B[39;00m \u001B[38;5;167;01mValueError\u001B[39;00m(\n\u001B[1;32m   1103\u001B[0m         \u001B[38;5;124mf\u001B[39m\u001B[38;5;124m\"\u001B[39m\u001B[38;5;132;01m{\u001B[39;00mestimator_name\u001B[38;5;132;01m}\u001B[39;00m\u001B[38;5;124m requires y to be passed, but the target y is None\u001B[39m\u001B[38;5;124m\"\u001B[39m\n\u001B[1;32m   1104\u001B[0m     )\n\u001B[1;32m   1106\u001B[0m X \u001B[38;5;241m=\u001B[39m check_array(\n\u001B[1;32m   1107\u001B[0m     X,\n\u001B[1;32m   1108\u001B[0m     accept_sparse\u001B[38;5;241m=\u001B[39maccept_sparse,\n\u001B[0;32m   (...)\u001B[0m\n\u001B[1;32m   1119\u001B[0m     input_name\u001B[38;5;241m=\u001B[39m\u001B[38;5;124m\"\u001B[39m\u001B[38;5;124mX\u001B[39m\u001B[38;5;124m\"\u001B[39m,\n\u001B[1;32m   1120\u001B[0m )\n\u001B[0;32m-> 1122\u001B[0m y \u001B[38;5;241m=\u001B[39m \u001B[43m_check_y\u001B[49m\u001B[43m(\u001B[49m\u001B[43my\u001B[49m\u001B[43m,\u001B[49m\u001B[43m \u001B[49m\u001B[43mmulti_output\u001B[49m\u001B[38;5;241;43m=\u001B[39;49m\u001B[43mmulti_output\u001B[49m\u001B[43m,\u001B[49m\u001B[43m \u001B[49m\u001B[43my_numeric\u001B[49m\u001B[38;5;241;43m=\u001B[39;49m\u001B[43my_numeric\u001B[49m\u001B[43m,\u001B[49m\u001B[43m \u001B[49m\u001B[43mestimator\u001B[49m\u001B[38;5;241;43m=\u001B[39;49m\u001B[43mestimator\u001B[49m\u001B[43m)\u001B[49m\n\u001B[1;32m   1124\u001B[0m check_consistent_length(X, y)\n\u001B[1;32m   1126\u001B[0m \u001B[38;5;28;01mreturn\u001B[39;00m X, y\n",
      "File \u001B[0;32m/usr/local/lib/python3.10/site-packages/sklearn/utils/validation.py:1143\u001B[0m, in \u001B[0;36m_check_y\u001B[0;34m(y, multi_output, y_numeric, estimator)\u001B[0m\n\u001B[1;32m   1141\u001B[0m \u001B[38;5;28;01melse\u001B[39;00m:\n\u001B[1;32m   1142\u001B[0m     estimator_name \u001B[38;5;241m=\u001B[39m _check_estimator_name(estimator)\n\u001B[0;32m-> 1143\u001B[0m     y \u001B[38;5;241m=\u001B[39m \u001B[43mcolumn_or_1d\u001B[49m\u001B[43m(\u001B[49m\u001B[43my\u001B[49m\u001B[43m,\u001B[49m\u001B[43m \u001B[49m\u001B[43mwarn\u001B[49m\u001B[38;5;241;43m=\u001B[39;49m\u001B[38;5;28;43;01mTrue\u001B[39;49;00m\u001B[43m)\u001B[49m\n\u001B[1;32m   1144\u001B[0m     _assert_all_finite(y, input_name\u001B[38;5;241m=\u001B[39m\u001B[38;5;124m\"\u001B[39m\u001B[38;5;124my\u001B[39m\u001B[38;5;124m\"\u001B[39m, estimator_name\u001B[38;5;241m=\u001B[39mestimator_name)\n\u001B[1;32m   1145\u001B[0m     _ensure_no_complex_data(y)\n",
      "File \u001B[0;32m/usr/local/lib/python3.10/site-packages/sklearn/utils/validation.py:1202\u001B[0m, in \u001B[0;36mcolumn_or_1d\u001B[0;34m(y, dtype, warn)\u001B[0m\n\u001B[1;32m   1193\u001B[0m         warnings\u001B[38;5;241m.\u001B[39mwarn(\n\u001B[1;32m   1194\u001B[0m             \u001B[38;5;124m\"\u001B[39m\u001B[38;5;124mA column-vector y was passed when a 1d array was\u001B[39m\u001B[38;5;124m\"\u001B[39m\n\u001B[1;32m   1195\u001B[0m             \u001B[38;5;124m\"\u001B[39m\u001B[38;5;124m expected. Please change the shape of y to \u001B[39m\u001B[38;5;124m\"\u001B[39m\n\u001B[0;32m   (...)\u001B[0m\n\u001B[1;32m   1198\u001B[0m             stacklevel\u001B[38;5;241m=\u001B[39m\u001B[38;5;241m2\u001B[39m,\n\u001B[1;32m   1199\u001B[0m         )\n\u001B[1;32m   1200\u001B[0m     \u001B[38;5;28;01mreturn\u001B[39;00m _asarray_with_order(xp\u001B[38;5;241m.\u001B[39mreshape(y, \u001B[38;5;241m-\u001B[39m\u001B[38;5;241m1\u001B[39m), order\u001B[38;5;241m=\u001B[39m\u001B[38;5;124m\"\u001B[39m\u001B[38;5;124mC\u001B[39m\u001B[38;5;124m\"\u001B[39m, xp\u001B[38;5;241m=\u001B[39mxp)\n\u001B[0;32m-> 1202\u001B[0m \u001B[38;5;28;01mraise\u001B[39;00m \u001B[38;5;167;01mValueError\u001B[39;00m(\n\u001B[1;32m   1203\u001B[0m     \u001B[38;5;124m\"\u001B[39m\u001B[38;5;124my should be a 1d array, got an array of shape \u001B[39m\u001B[38;5;132;01m{}\u001B[39;00m\u001B[38;5;124m instead.\u001B[39m\u001B[38;5;124m\"\u001B[39m\u001B[38;5;241m.\u001B[39mformat(shape)\n\u001B[1;32m   1204\u001B[0m )\n",
      "\u001B[0;31mValueError\u001B[0m: y should be a 1d array, got an array of shape (1543, 4) instead."
     ]
    }
   ],
   "source": [
    "objective1_values, objective2_values = nsga2(population,max_gen,X_train, y_train, X_test, y_test)"
   ]
  },
  {
   "cell_type": "markdown",
   "metadata": {},
   "source": [
    "# Non Dominating Curve"
   ]
  },
  {
   "cell_type": "code",
   "execution_count": null,
   "metadata": {
    "ExecuteTime": {
     "end_time": "2024-04-17T09:19:07.860839Z",
     "start_time": "2024-04-17T09:19:07.776866Z"
    }
   },
   "outputs": [],
   "source": [
    "non_dominating_curve_plotter(objective1_values, objective2_values)"
   ]
  },
  {
   "cell_type": "code",
   "execution_count": null,
   "metadata": {},
   "outputs": [],
   "source": []
  }
 ],
 "metadata": {
  "kernelspec": {
   "display_name": "Python 3 (ipykernel)",
   "language": "python",
   "name": "python3"
  },
  "language_info": {
   "codemirror_mode": {
    "name": "ipython",
    "version": 3
   },
   "file_extension": ".py",
   "mimetype": "text/x-python",
   "name": "python",
   "nbconvert_exporter": "python",
   "pygments_lexer": "ipython3",
   "version": "3.10.8"
  }
 },
 "nbformat": 4,
 "nbformat_minor": 2
}
