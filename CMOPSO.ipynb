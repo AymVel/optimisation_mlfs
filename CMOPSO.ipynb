{
 "cells": [
  {
   "cell_type": "code",
   "id": "initial_id",
   "metadata": {
    "collapsed": true,
    "ExecuteTime": {
     "end_time": "2024-04-17T10:02:28.440288Z",
     "start_time": "2024-04-17T10:02:27.974585Z"
    }
   },
   "source": [
    "import math\n",
    "import timeit\n",
    "\n",
    "import numpy as np\n",
    "from pymoo.problems import get_problem\n",
    "from pymoo.visualization.scatter import Scatter\n",
    "from tqdm import tqdm\n",
    "\n",
    "from archive import dominates"
   ],
   "outputs": [],
   "execution_count": 1
  },
  {
   "metadata": {
    "ExecuteTime": {
     "end_time": "2024-04-17T10:02:37.732853Z",
     "start_time": "2024-04-17T10:02:37.730335Z"
    }
   },
   "cell_type": "code",
   "source": [
    "def seq_search(solution, F):\n",
    "    \"\"\"\n",
    "    Sequential search strategy for ens_ss() algorithm.\n",
    "\n",
    "    :param solution:\n",
    "    :param F:\n",
    "    :return:\n",
    "    \"\"\"\n",
    "    for k in range(len(F)):\n",
    "        for entry in F[k]:\n",
    "            if dominates(entry['fit'], solution):\n",
    "                break\n",
    "        else:\n",
    "            return k\n",
    "    return len(F)\n"
   ],
   "id": "1cbbf0201c8f3500",
   "outputs": [],
   "execution_count": 2
  },
  {
   "metadata": {
    "ExecuteTime": {
     "end_time": "2024-04-17T10:02:44.334911Z",
     "start_time": "2024-04-17T10:02:44.332240Z"
    }
   },
   "cell_type": "code",
   "source": [
    "def ens_ss(pop, fit, vel):\n",
    "    \"\"\"\n",
    "    Efficient non-dominated sort (sequential search variant), as discussed in:\n",
    "    Zhang, Xingyi, et al.\n",
    "    \"An efficient approach to nondominated sorting for evolutionary multiobjective optimization.\"\n",
    "    IEEE Transactions on Evolutionary Computation 19.2 (2014): 201-213.\n",
    "\n",
    "    :param pop: The population.\n",
    "    :param fit: Fitness of the population.\n",
    "    :return: Set of fronts\n",
    "    \"\"\"\n",
    "    F = []  # set of fronts\n",
    "\n",
    "    # Sort pop in ascending order by first objective\n",
    "    sorted_idxs = fit[:, 0].argsort(axis=0)\n",
    "    fit = fit[sorted_idxs]\n",
    "    pop = pop[sorted_idxs]\n",
    "\n",
    "    for i in range(fit.shape[0]):\n",
    "        k = seq_search(fit[i], F)\n",
    "        if k == len(F):\n",
    "            F.append([])\n",
    "        F[k].append({'pos': pop[i].copy(), 'fit': fit[i].copy(), 'vel': vel[i].copy()})\n",
    "\n",
    "    return F\n"
   ],
   "id": "3a1a51372ffd6db6",
   "outputs": [],
   "execution_count": 3
  },
  {
   "metadata": {
    "ExecuteTime": {
     "end_time": "2024-04-17T10:02:51.268072Z",
     "start_time": "2024-04-17T10:02:51.265054Z"
    }
   },
   "cell_type": "code",
   "source": [
    "def crowding_distance(front):\n",
    "    \"\"\"\n",
    "    Calculates the crowding distance from the provided front\n",
    "\n",
    "    :return: Crowding distances\n",
    "    \"\"\"\n",
    "    for solution in front:\n",
    "        solution['dist'] = 0\n",
    "\n",
    "    num_of_objectives = len(front[0]['fit'])\n",
    "    for i in range(num_of_objectives):\n",
    "        front.sort(key=lambda x: x['fit'][i])\n",
    "        for j in range(1, len(front) - 1):\n",
    "            front[j]['dist'] += front[j + 1]['fit'][i] - front[j - 1]['fit'][i]\n",
    "        front[0]['dist'] = math.inf\n",
    "        front[-1]['dist'] = math.inf\n",
    "\n",
    "    return front"
   ],
   "id": "60c241d3b9f72023",
   "outputs": [],
   "execution_count": 4
  },
  {
   "metadata": {
    "ExecuteTime": {
     "end_time": "2024-04-17T10:03:01.413126Z",
     "start_time": "2024-04-17T10:03:01.405203Z"
    }
   },
   "cell_type": "code",
   "source": [
    "def CMOPSO(problem, low_bound, high_bound, max_iter, pop_size, gamma, T_a):\n",
    "    # T_a is maximum age before particle position is re-initialized\n",
    "    # Age increases by one each time fitness isn't improved an iteration\n",
    "    # gamma is size of elite particle set\n",
    "    positions = np.random.uniform(low_bound, high_bound, size=(pop_size, problem.n_var))\n",
    "    velocities = np.zeros(shape=(pop_size, problem.n_var))\n",
    "    fitnesses = problem.evaluate(positions)\n",
    "    age = np.full(fill_value=0, shape=(pop_size, 1))\n",
    "\n",
    "    for _ in tqdm(range(max_iter)):\n",
    "        ##############################\n",
    "        # Competition-based learning #\n",
    "        ##############################\n",
    "\n",
    "        # Select elite particles from P according to front index and crowding distance\n",
    "        # Remember: gamma is size of elite container\n",
    "        F = ens_ss(positions, fitnesses, velocities)  # non-dominated sorting\n",
    "        front_sum = 0\n",
    "        L = []  # elite particle container\n",
    "        for i in range(len(F)):\n",
    "            len_front = len(F[i])\n",
    "            if len_front + front_sum < gamma:\n",
    "                L += F[i]\n",
    "                front_sum += len_front\n",
    "            elif len_front + front_sum >= gamma:\n",
    "                # Crowding distance calculations determine the particles that are kept\n",
    "                F[i] = crowding_distance(F[i])\n",
    "                F[i].sort(key=lambda x: x['dist'], reverse=True)\n",
    "                L += F[i][0:gamma - front_sum]\n",
    "                break\n",
    "\n",
    "        L_pos = np.array([entry['pos'] for entry in L])\n",
    "        L_fit = np.array([entry['fit'] for entry in L])\n",
    "\n",
    "        # Randomly choose 2 elite particles from L for each particle\n",
    "        rand_elite_idxs = np.random.randint(0, len(L), size=(pop_size, 2))\n",
    "        rand_elite = L_fit[rand_elite_idxs]\n",
    "        rand_elite_pos = L_pos[rand_elite_idxs]\n",
    "\n",
    "        # Calculating angles (https://stackoverflow.com/a/13849249)\n",
    "        norm_rand_elite = np.linalg.norm(rand_elite, axis=2).reshape((-1, 2, 1))\n",
    "        norm_fitnesses = np.linalg.norm(fitnesses, axis=1).reshape(-1, 1)\n",
    "\n",
    "        unit_vector_fitnesses = fitnesses / norm_fitnesses\n",
    "        unit_vector_rand_elite = rand_elite / norm_rand_elite\n",
    "\n",
    "        split_rand_elite = np.split(unit_vector_rand_elite, 2, axis=1)\n",
    "        for i in range(len(split_rand_elite)):\n",
    "            split_rand_elite[i] = split_rand_elite[i].reshape(-1, 2)\n",
    "\n",
    "        # The angles between random elites and fitnesses\n",
    "        # 'ij,ji->i' grabs only the elements on the diagonal of the matrix multiplication\n",
    "        # arccos then calculates the angle, where values must be clipped between -1 to 1\n",
    "        theta_1 = np.arccos(\n",
    "            np.clip(np.einsum('ij,ji->i', split_rand_elite[0], unit_vector_fitnesses.transpose()), -1.0, 1.0))\n",
    "        theta_2 = np.arccos(\n",
    "            np.clip(np.einsum('ij,ji->i', split_rand_elite[1], unit_vector_fitnesses.transpose()), -1.0, 1.0))\n",
    "        p_w = np.concatenate((rand_elite_pos[theta_1 < theta_2, 0, :], rand_elite_pos[theta_1 >= theta_2, 1, :]))\n",
    "\n",
    "        # Update positions and velocities\n",
    "        r_1 = np.random.uniform(0.0, 1.0, size=(pop_size, problem.n_var))\n",
    "        r_2 = np.random.uniform(0.0, 1.0, size=(pop_size, problem.n_var))\n",
    "\n",
    "        new_velocities = r_1 * velocities + r_2 * (p_w - positions)\n",
    "        new_positions = positions + velocities\n",
    "        new_fitnesses = problem.evaluate(new_positions)\n",
    "\n",
    "        #######################\n",
    "        # Polynomial Mutation #\n",
    "        #######################\n",
    "        # Using the technique explained in:\n",
    "        # Zapotecas Martínez, Saúl, and Carlos A. Coello Coello.\n",
    "        # \"A multi-objective particle swarm optimizer based on decomposition.\"\n",
    "        # Proceedings of the 13th annual conference on Genetic and evolutionary computation. 2011.\n",
    "        '''\n",
    "        # Update ages of particles\n",
    "        improved_fitness = (new_fitnesses >= fitnesses).all(axis=1)\n",
    "        age[np.logical_not(improved_fitness)] += 1\n",
    "        age[improved_fitness] = 0\n",
    "\n",
    "        expired_ages = np.where(age >= T_a)[0]\n",
    "        new_positions[expired_ages] = np.clip(np.random.normal((new_positions[expired_ages] - p_w[expired_ages]) / 2,\n",
    "                                                              np.abs(new_positions[expired_ages] - p_w[expired_ages])), 0, 1)\n",
    "        new_fitnesses[expired_ages] = problem.evaluate(new_positions[expired_ages])\n",
    "        new_velocities[expired_ages] = np.full(fill_value=0.0, shape=new_velocities[expired_ages].shape)\n",
    "        '''\n",
    "        ###########################\n",
    "        # Environmental Selection #\n",
    "        ###########################\n",
    "\n",
    "        # Calculate the non-dominated in new positions\n",
    "        all_positions = np.concatenate((positions, new_positions), axis=0)\n",
    "        all_fitnesses = np.concatenate((fitnesses, new_fitnesses), axis=0)\n",
    "        all_velocities = np.concatenate((velocities, new_velocities), axis=0)\n",
    "        all_F = ens_ss(all_positions, all_fitnesses, all_velocities)\n",
    "        L = []  # elite particle container\n",
    "        for i in range(len(all_F)):\n",
    "            len_front = len(F[i])\n",
    "            if len_front + front_sum < pop_size:\n",
    "                L += F[i]\n",
    "                front_sum += len_front\n",
    "            elif len_front + front_sum >= pop_size:\n",
    "                # Crowding distance calculations determine the particles that are kept\n",
    "                F[i] = crowding_distance(F[i])\n",
    "                F[i].sort(key=lambda x: x['dist'], reverse=True)\n",
    "                L += F[i][0:pop_size - front_sum]\n",
    "                break\n",
    "        positions = np.array([entry['pos'] for entry in L])\n",
    "        fitnesses = np.array([entry['fit'] for entry in L])\n",
    "        velocities = np.array([entry['vel'] for entry in L])\n",
    "    return fitnesses\n"
   ],
   "id": "cab70332799a55be",
   "outputs": [],
   "execution_count": 5
  },
  {
   "metadata": {
    "ExecuteTime": {
     "end_time": "2024-04-17T10:03:09.654753Z",
     "start_time": "2024-04-17T10:03:08.920689Z"
    }
   },
   "cell_type": "code",
   "source": [
    "np.seterr('raise')  # Used for debugging.\n",
    "problem = get_problem(\"zdt1\")\n",
    "# Must change the problem to -f(x) since CMOPSO assumes maximization.\n",
    "tmp = problem.evaluate\n",
    "problem.evaluate = lambda x: -1 * tmp(x)\n",
    "\n",
    "fitnesses = CMOPSO(problem, 0.0, 1.0, 100, 100, 10, 25)"
   ],
   "id": "8af6c64bce229d43",
   "outputs": [
    {
     "name": "stderr",
     "output_type": "stream",
     "text": [
      "100%|██████████| 100/100 [00:00<00:00, 138.72it/s]\n"
     ]
    }
   ],
   "execution_count": 6
  },
  {
   "metadata": {
    "ExecuteTime": {
     "end_time": "2024-04-17T10:03:17.176281Z",
     "start_time": "2024-04-17T10:03:17.018041Z"
    }
   },
   "cell_type": "code",
   "source": [
    "pf = problem.pareto_front()\n",
    "Scatter(legend=True).add(pf, label=\"Pareto-front\").add(fitnesses * -1, label=\"Result\").show()"
   ],
   "id": "5f394af3a9a8810d",
   "outputs": [
    {
     "data": {
      "text/plain": [
       "<pymoo.visualization.scatter.Scatter at 0x743c38253b20>"
      ]
     },
     "execution_count": 7,
     "metadata": {},
     "output_type": "execute_result"
    },
    {
     "data": {
      "text/plain": [
       "<Figure size 800x600 with 1 Axes>"
      ],
      "image/png": "[encoded data removed]"
     },
     "metadata": {},
     "output_type": "display_data"
    }
   ],
   "execution_count": 7
  },
  {
   "metadata": {},
   "cell_type": "code",
   "outputs": [],
   "execution_count": null,
   "source": "",
   "id": "3a422bd68692ee31"
  }
 ],
 "metadata": {
  "kernelspec": {
   "display_name": "Python 3",
   "language": "python",
   "name": "python3"
  },
  "language_info": {
   "codemirror_mode": {
    "name": "ipython",
    "version": 2
   },
   "file_extension": ".py",
   "mimetype": "text/x-python",
   "name": "python",
   "nbconvert_exporter": "python",
   "pygments_lexer": "ipython2",
   "version": "2.7.6"
  }
 },
 "nbformat": 4,
 "nbformat_minor": 5
}
